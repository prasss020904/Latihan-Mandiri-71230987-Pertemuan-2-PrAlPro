{
 "cells": [
  {
   "cell_type": "code",
   "execution_count": 1,
   "id": "f70bad05",
   "metadata": {},
   "outputs": [
    {
     "name": "stdout",
     "output_type": "stream",
     "text": [
      "Masukan berat badan dalam kg :12\n",
      "Masukan tinggi badan dalam M:12\n",
      "0.08333333333333333\n"
     ]
    }
   ],
   "source": [
    "berat = int(input(\"Masukan berat badan dalam kg :\"))\n",
    "tinggi = float(input(\"Masukan tinggi badan dalam M:\"))\n",
    "bmi = berat / tinggi **2\n",
    "print(bmi)"
   ]
  },
  {
   "cell_type": "code",
   "execution_count": 4,
   "id": "2a65bb80",
   "metadata": {},
   "outputs": [
    {
     "name": "stdout",
     "output_type": "stream",
     "text": [
      "Masukan x:13\n",
      "4421.153846153846\n"
     ]
    }
   ],
   "source": [
    "x = int(input(\"Masukan x:\"))\n",
    "fx = 2*x**3 + 2*x + 15/x\n",
    "print(fx)"
   ]
  },
  {
   "cell_type": "code",
   "execution_count": 5,
   "id": "1f3dc309",
   "metadata": {},
   "outputs": [
    {
     "name": "stdout",
     "output_type": "stream",
     "text": [
      "Masukan gaji yang diinginkan:2000000\n",
      "Jumlah jam kerja yang akan dilakukan dalam 1 minggu:35\n",
      "1. Pendapatan Budi sebelum pajak: 350000000\n",
      "2. Pendapatan Budi setelah pajak: 301000000.0\n",
      "3. Jumlah uang yang akan Budi habiskan untuk membeli pakaian dan aksesoris: 30100000.0\n",
      "4. Jumlah uang yang akan Budi habiskan untuk membeli alat tulis: 3010000.0\n",
      "5. Jumlah uang yang akan Budi sedekahkan: 75250000.0\n",
      "6. Jumlah uang yang akan diterima anak yatim: 22575000.0\n",
      "7. Jumlah uang yang akan diterima kaum dhuafa: 52675000.0\n"
     ]
    }
   ],
   "source": [
    "gaji = int(input(\"Masukan gaji yang diinginkan:\"))\n",
    "jumlah_jam_kerja= int(input(\"Jumlah jam kerja yang akan dilakukan dalam 1 minggu:\"))\n",
    "\n",
    "jumlah_minggu = 5\n",
    "pajak = 0.14\n",
    "pengeluaran_aksesoris = 0.10\n",
    "pengeluara_alattulis = 0.01\n",
    "sedekah = 0.25\n",
    "sedekah_yatim = 0.30\n",
    "sedekah_duafa = 0.70\n",
    "\n",
    "total_gaji_sebelum_pajak = gaji * jumlah_jam_kerja * jumlah_minggu\n",
    "total_pajak = total_gaji_sebelum_pajak * pajak\n",
    "gaji_setelah_pajak = total_gaji_sebelum_pajak - total_pajak\n",
    "biaya_pengeluaran_akesoris = gaji_setelah_pajak * pengeluaran_aksesoris\n",
    "biaya_pengeluaran_alattulis = gaji_setelah_pajak * pengeluara_alattulis\n",
    "biaya_sedekah = gaji_setelah_pajak * sedekah\n",
    "biaya_sedekah_yatim = biaya_sedekah * sedekah_yatim\n",
    "biaya_sedekah_duafa = biaya_sedekah * sedekah_duafa\n",
    "\n",
    "print(\"1. Pendapatan Budi sebelum pajak:\", total_gaji_sebelum_pajak)\n",
    "print(\"2. Pendapatan Budi setelah pajak:\", gaji_setelah_pajak)\n",
    "print(\"3. Jumlah uang yang akan Budi habiskan untuk membeli pakaian dan aksesoris:\", biaya_pengeluaran_akesoris)\n",
    "print(\"4. Jumlah uang yang akan Budi habiskan untuk membeli alat tulis:\", biaya_pengeluaran_alattulis)\n",
    "print(\"5. Jumlah uang yang akan Budi sedekahkan:\", biaya_sedekah)\n",
    "print(\"6. Jumlah uang yang akan diterima anak yatim:\", biaya_sedekah_yatim)\n",
    "print(\"7. Jumlah uang yang akan diterima kaum dhuafa:\", biaya_sedekah_duafa)"
   ]
  },
  {
   "cell_type": "code",
   "execution_count": null,
   "id": "de0e3f7d",
   "metadata": {},
   "outputs": [],
   "source": []
  },
  {
   "cell_type": "code",
   "execution_count": null,
   "id": "e68dab08",
   "metadata": {},
   "outputs": [],
   "source": []
  },
  {
   "cell_type": "code",
   "execution_count": null,
   "id": "7ab7f768",
   "metadata": {},
   "outputs": [],
   "source": []
  }
 ],
 "metadata": {
  "kernelspec": {
   "display_name": "Python 3 (ipykernel)",
   "language": "python",
   "name": "python3"
  },
  "language_info": {
   "codemirror_mode": {
    "name": "ipython",
    "version": 3
   },
   "file_extension": ".py",
   "mimetype": "text/x-python",
   "name": "python",
   "nbconvert_exporter": "python",
   "pygments_lexer": "ipython3",
   "version": "3.11.5"
  }
 },
 "nbformat": 4,
 "nbformat_minor": 5
}
